{
  "nbformat": 4,
  "nbformat_minor": 0,
  "metadata": {
    "colab": {
      "provenance": [],
      "include_colab_link": true
    },
    "kernelspec": {
      "name": "python3",
      "display_name": "Python 3"
    },
    "accelerator": "GPU",
    "gpuClass": "standard"
  },
  "cells": [
    {
      "cell_type": "markdown",
      "metadata": {
        "id": "view-in-github",
        "colab_type": "text"
      },
      "source": [
        "<a href=\"https://colab.research.google.com/github/RodolfoFerro/ml-facilito/blob/main/notebooks/Deep_Learning_Clase_3.ipynb\" target=\"_parent\"><img src=\"https://colab.research.google.com/assets/colab-badge.svg\" alt=\"Open In Colab\"/></a>"
      ]
    },
    {
      "cell_type": "markdown",
      "metadata": {
        "id": "R6jO_1gISKxk"
      },
      "source": [
        "# Deep Learning 101 - Clase 3  🧠\n",
        "\n",
        "> **Descripción:** Cuaderno de contenidos (III) sobre introducción a _deep learning_ para el Bootcamp de Machine Learning con Código Facilito, 2023. <br>\n",
        "> **Autor:** [Rodolfo Ferro](https://github.com/RodolfoFerro) <br>\n",
        "> **Contacto:** [X](https://twitter.com/rodo_ferro) / [Instagram](https://www.instagram.com/rodo_ferro/)\n",
        "\n",
        "\n",
        "## Contenido\n",
        "\n",
        "### Sección VII\n",
        "\n",
        "1. Keras Core\n",
        "2. Tensores, operadores, funciones en keras_core.ops\n",
        "3. ¿Por qué utilizar Keras Core?\n",
        "\n",
        "\n",
        "### Sección VIII\n",
        "\n",
        "4. Introducción a PyTorch\n",
        "5. Tensores, operadores, funciones\n",
        "6. El problema de separabilidad lineal - XOR\n",
        "7. Redes neuronales con PyTorch\n",
        "\n",
        "\n",
        "### Sección IX – Tarea\n",
        "\n",
        "8. El dataset a utilizar\n",
        "9. Preparación de los datos\n",
        "10. Creación del modelo\n",
        "11. Entrenamiento del modelo\n",
        "12. Evaluación y predicción"
      ]
    },
    {
      "cell_type": "markdown",
      "metadata": {
        "id": "xNVG2PnSEtQN"
      },
      "source": [
        "## **Sección VII**"
      ]
    },
    {
      "cell_type": "markdown",
      "metadata": {
        "id": "tPk1Rkc4FZ5g"
      },
      "source": [
        "### **Keras Core**\n",
        "\n",
        "[Keras](https://keras.io/) es una API diseñada para seres humanos, no para máquinas. Sigue las mejores prácticas para reducir la carga cognitiva: ofrece API simples y consistentes, minimiza la cantidad de acciones del usuario requeridas para casos de uso comunes y proporciona mensajes de error claros y procesables.\n",
        "\n",
        "#### **¿Qué es Keras Core?**\n",
        "\n",
        "- Una reescritura completa de Keras\n",
        "  - Sin deuda técnica\n",
        "  - Un codebase más pequeño (43K LOC, ~3x más pequeño)\n",
        "- Con soporte multi-backend (JAX, TensorFlow, PyTorch, & Numpy)\n",
        "  - El backend de Numpy es para inferencia solamente\n",
        "- Reemplazo directo para tf.keras cuando usas TensorFlow como backend\n",
        "- Funciona perfectamente con KerasNLP y KerasCV\n"
      ]
    },
    {
      "cell_type": "code",
      "source": [
        "!pip install keras_core -q"
      ],
      "metadata": {
        "id": "NAqz6APSLRKU"
      },
      "execution_count": null,
      "outputs": []
    },
    {
      "cell_type": "code",
      "source": [
        "import numpy as np\n",
        "\n",
        "\n",
        "x = np.array([(0, 0), (1, 0), (0, 1), (1, 1)])\n",
        "y = np.array([0, 1, 1, 0])"
      ],
      "metadata": {
        "id": "A9sZ5Ug_K0Mh"
      },
      "execution_count": null,
      "outputs": []
    },
    {
      "cell_type": "code",
      "source": [
        "import os\n",
        "os.environ[\"KERAS_BACKEND\"] = \"torch\" # or \"tensorflow\" or \"jax\"\n",
        "\n",
        "import keras_core as keras\n",
        "keras.ops.numpy.arange(5)"
      ],
      "metadata": {
        "id": "HIIOS4V-Lc3B"
      },
      "execution_count": null,
      "outputs": []
    },
    {
      "cell_type": "code",
      "source": [
        "model = keras.models.Sequential([\n",
        "    keras.layers.Dense(2, activation='tanh', input_shape=(2, )),\n",
        "    keras.layers.Dense(1, activation='sigmoid')\n",
        "])"
      ],
      "metadata": {
        "id": "bZKK3vIILJtf"
      },
      "execution_count": null,
      "outputs": []
    },
    {
      "cell_type": "code",
      "source": [
        "loss = keras.losses.MeanSquaredError()\n",
        "optimizer = keras.optimizers.SGD(learning_rate=0.6)\n",
        "model.compile(optimizer=optimizer, loss=loss, metrics=[loss])"
      ],
      "metadata": {
        "id": "f0C1S_PQLPVC"
      },
      "execution_count": null,
      "outputs": []
    },
    {
      "cell_type": "code",
      "source": [
        "history = model.fit(x, y, epochs=1000)"
      ],
      "metadata": {
        "id": "y3WVinDqMFFu"
      },
      "execution_count": null,
      "outputs": []
    },
    {
      "cell_type": "code",
      "source": [
        "import plotly.express as px\n",
        "\n",
        "\n",
        "losses = history.history['loss']\n",
        "eje_x = np.arange(len(losses))\n",
        "\n",
        "fig = px.line(\n",
        "    x=eje_x,\n",
        "    y=losses,\n",
        "    title='Historia de entrenamiento',\n",
        "    labels=dict(x='Épocas', y='Error')\n",
        ")\n",
        "fig.show()"
      ],
      "metadata": {
        "id": "2pyLthluMHN2"
      },
      "execution_count": null,
      "outputs": []
    },
    {
      "cell_type": "code",
      "source": [
        "# Construcción de una rejilla\n",
        "x = np.linspace(-0.1, 1.1, 201)\n",
        "y = np.linspace(-0.1, 1.1, 201)\n",
        "xy = np.meshgrid(x, y)\n",
        "zz = np.array(list(zip(*(x.flat for x in xy))))\n",
        "\n",
        "# Predicción en la rejilla de valores\n",
        "surface = model.predict(zz)\n",
        "surface = surface.flatten()"
      ],
      "metadata": {
        "id": "228R45nKMI-m"
      },
      "execution_count": null,
      "outputs": []
    },
    {
      "cell_type": "code",
      "source": [
        "import plotly.graph_objects as go\n",
        "\n",
        "\n",
        "fig = go.Figure(data=[go.Scatter3d(\n",
        "    x=zz[:, 0],\n",
        "    y=zz[:, 1],\n",
        "    z=surface,\n",
        "    mode='markers',\n",
        "    marker=dict(\n",
        "        size=1,\n",
        "        color=surface,\n",
        "        colorscale='Viridis',\n",
        "        opacity=0.8\n",
        "    )\n",
        ")])\n",
        "\n",
        "# Tight layout\n",
        "fig.update_layout(margin=dict(l=0, r=0, b=0, t=0))\n",
        "fig.show()"
      ],
      "metadata": {
        "id": "7Cg9jt3-MLGb"
      },
      "execution_count": null,
      "outputs": []
    },
    {
      "cell_type": "markdown",
      "metadata": {
        "id": "KlQl_jAunKvb"
      },
      "source": [
        "## **Sección VIII**"
      ]
    },
    {
      "cell_type": "markdown",
      "source": [
        "### **Introducción a PyTorch**\n",
        "\n",
        "[PyTorch](https://pytorch.org/get-started/locally/) es una biblioteca de aprendizaje profundo open-source basada en la biblioteca de Torch (Lua), utilizado para aplicaciones como visión artificial y procesamiento de lenguajes naturales, principalmente desarrollado por el Laboratorio de Investigación de IA de Facebook.\n"
      ],
      "metadata": {
        "id": "fp687hVHnOxo"
      }
    },
    {
      "cell_type": "code",
      "source": [
        "from torch.utils.data import TensorDataset, DataLoader\n",
        "import torch\n",
        "import numpy as np\n",
        "\n",
        "\n",
        "device = \"cuda\" if torch.cuda.is_available() else \"cpu\"\n",
        "print(f\"Using {device} device\")\n",
        "\n",
        "\n",
        "# TODO. Load samples\n",
        "x = np.array([(0, 0), (1, 0), (0, 1), (1, 1)])\n",
        "y = np.array([[0], [1], [1], [0]])\n",
        "\n",
        "tensor_x = None # TODO. Load torch.Tensor() to device\n",
        "tensor_y = None # TODO. Load torch.Tensor() to device\n",
        "\n",
        "dataset = TensorDataset(tensor_x, tensor_y)\n",
        "train_dataloader = DataLoader(dataset)"
      ],
      "metadata": {
        "id": "GbI7sI3GRLvO"
      },
      "execution_count": null,
      "outputs": []
    },
    {
      "cell_type": "markdown",
      "source": [
        "### **La red neurona, el optimizador y la función de pérdida**"
      ],
      "metadata": {
        "id": "oILbTIcpZzF2"
      }
    },
    {
      "cell_type": "markdown",
      "source": [
        "$$ \\mathrm{MSE}=\\frac{1}{N}\\cdot\\sum_{i=1}^N \\left(y_i- \\hat{y}_i \\right )^2 $$"
      ],
      "metadata": {
        "id": "BP04BMThkScl"
      }
    },
    {
      "cell_type": "code",
      "source": [
        "import torch\n",
        "import torch.nn as nn\n",
        "\n",
        "\n",
        "class NeuralNet(nn.Module):\n",
        "\n",
        "    def __init__(self):\n",
        "        super().__init__()\n",
        "\n",
        "        # TODO. Create Sequential model\n",
        "        self.model = nn.Sequential(\n",
        "            # TODO. Linear() that maps 2 -> 2\n",
        "            # TODO. Activation function\n",
        "            # TODO. Linear() that maps 2 -> 1\n",
        "            # TODO. Activation function\n",
        "        )\n",
        "\n",
        "    def forward(self, x):\n",
        "        out = self.model(x.view(x.size(0), 2))\n",
        "        out = out.view(out.size(0), -1)\n",
        "        return out"
      ],
      "metadata": {
        "id": "7UId24PBOUdL"
      },
      "execution_count": null,
      "outputs": []
    },
    {
      "cell_type": "code",
      "source": [
        "def train_net(model, loss_fn, optimizer, dataloader):\n",
        "    size = len(dataloader.dataset)\n",
        "    for batch, (x, y) in enumerate(dataloader):\n",
        "        # Compute prediction and loss\n",
        "        # TODO. Prediction is computed with the model\n",
        "        # TODO. Use loss_fn or use your own loss function\n",
        "        # e.g. loss = (y - pred) ** 2 or loss_fn(y, pred)\n",
        "        # loss.sum()\n",
        "\n",
        "        # Backpropagation\n",
        "        # TODO. optimizer -> zero_grad()\n",
        "        # TODO. loss -> backward()\n",
        "        # TODO. optimizer -> step()\n",
        "\n",
        "    return loss.item()"
      ],
      "metadata": {
        "id": "44I5uVwJPKl3"
      },
      "execution_count": null,
      "outputs": []
    },
    {
      "cell_type": "markdown",
      "source": [
        "- ¿Por qué hacer **zero_grad()**? https://stackoverflow.com/a/67819799"
      ],
      "metadata": {
        "id": "7GcpIEc_D08i"
      }
    },
    {
      "cell_type": "markdown",
      "source": [
        "### **Entrenamiento de la red**"
      ],
      "metadata": {
        "id": "rFYoAkMoEImS"
      }
    },
    {
      "cell_type": "code",
      "source": [
        "model = NeuralNet().to(device)\n",
        "print(model)"
      ],
      "metadata": {
        "id": "lMbMP4spQENw"
      },
      "execution_count": null,
      "outputs": []
    },
    {
      "cell_type": "code",
      "source": [
        "from tqdm import tqdm\n",
        "\n",
        "\n",
        "# Set learning rate, create optimizer and set loss fn\n",
        "learning_rate = 0.2\n",
        "loss_fn = nn.MSELoss()\n",
        "optimizer = torch.optim.SGD(model.parameters(), lr=learning_rate)\n",
        "\n",
        "# Set epochs and train model\n",
        "epochs = 1000\n",
        "losses = []\n",
        "pbar = tqdm(range(epochs))\n",
        "for t in pbar:\n",
        "    loss = train_net(model, loss_fn, optimizer, train_dataloader)\n",
        "    pbar.set_postfix({'Loss': loss})\n",
        "    losses.append(loss)"
      ],
      "metadata": {
        "id": "WZTG6VvrQ2Bw"
      },
      "execution_count": null,
      "outputs": []
    },
    {
      "cell_type": "code",
      "source": [
        "import plotly.express as px\n",
        "\n",
        "\n",
        "eje_x = np.arange(len(losses))\n",
        "\n",
        "fig = px.line(\n",
        "    x=eje_x,\n",
        "    y=losses,\n",
        "    title='Historia de entrenamiento',\n",
        "    labels=dict(x='Épocas', y='Error')\n",
        ")\n",
        "fig.show()"
      ],
      "metadata": {
        "id": "cHBNrHSMXKhW"
      },
      "execution_count": null,
      "outputs": []
    },
    {
      "cell_type": "code",
      "source": [
        "# Construcción de una rejilla\n",
        "x = np.linspace(-0.1, 1.1, 201)\n",
        "y = np.linspace(-0.1, 1.1, 201)\n",
        "xy = np.meshgrid(x, y)\n",
        "zz = np.array(list(zip(*(x.flat for x in xy))))\n",
        "\n",
        "# Predicción en la rejilla de valores\n",
        "z = torch.Tensor(zz).to(device)\n",
        "surface = model(z)\n",
        "\n",
        "surface = surface.cpu().data.numpy().flatten()"
      ],
      "metadata": {
        "id": "hvSrcyLDaTxc"
      },
      "execution_count": null,
      "outputs": []
    },
    {
      "cell_type": "code",
      "source": [
        "import plotly.graph_objects as go\n",
        "\n",
        "\n",
        "fig = go.Figure(data=[go.Scatter3d(\n",
        "    x=zz[:, 0],\n",
        "    y=zz[:, 1],\n",
        "    z=surface,\n",
        "    mode='markers',\n",
        "    marker=dict(\n",
        "        size=1,\n",
        "        color=surface,\n",
        "        colorscale='Viridis',\n",
        "        opacity=0.8\n",
        "    )\n",
        ")])\n",
        "\n",
        "# Tight layout\n",
        "fig.update_layout(margin=dict(l=0, r=0, b=0, t=0))\n",
        "fig.show()"
      ],
      "metadata": {
        "id": "Z98QLtC8cZH5"
      },
      "execution_count": null,
      "outputs": []
    },
    {
      "cell_type": "markdown",
      "metadata": {
        "id": "0IHtR4uPEaCO"
      },
      "source": [
        "<center>\n",
        "    *********\n",
        "</center>"
      ]
    },
    {
      "cell_type": "markdown",
      "metadata": {
        "id": "7NE4e3KuEVst"
      },
      "source": [
        "## **Sección III – Tarea**"
      ]
    },
    {
      "cell_type": "markdown",
      "metadata": {
        "id": "1Z7JrTygMDSx"
      },
      "source": [
        "### El dataset a utilizar: Naranjas vs. Manzanas\n",
        "\n",
        "El dataset ha sido una adaptación de datos encontrados en [Kaggle](https://www.kaggle.com/datasets/theblackmamba31/apple-orange). Dicho dataset está compuesto por conjuntos de imágenes de naranjas y manzanas que serán un utilizados para entrenar una neurona artificial.\n"
      ]
    },
    {
      "cell_type": "markdown",
      "source": [
        "Para cargar los datos, primero los descargaremos de un repositorio donde previamente los preparé para ustedes.\n",
        "\n",
        "Puedes explorar directamente los archivos fuente del [repositorio en GitHub – `apple-orange-dataset`](https://github.com/RodolfoFerro/apple-orange-dataset).\n",
        "\n",
        "Puedes también explorar el [script](https://github.com/RodolfoFerro/apple-orange-dataset/blob/main/script.py) que he utilizado para la preparación de los mismos."
      ],
      "metadata": {
        "id": "UVg0AU2-Fqzr"
      }
    },
    {
      "cell_type": "code",
      "source": [
        "!wget https://raw.githubusercontent.com/RodolfoFerro/apple-orange-dataset/main/training_data.csv\n",
        "!wget https://raw.githubusercontent.com/RodolfoFerro/apple-orange-dataset/main/testing_data.csv"
      ],
      "metadata": {
        "id": "1S81FXVEFzQo"
      },
      "execution_count": null,
      "outputs": []
    },
    {
      "cell_type": "markdown",
      "metadata": {
        "id": "CxfNdPU3NQge"
      },
      "source": [
        "### Preparación de los datos\n"
      ]
    },
    {
      "cell_type": "code",
      "source": [
        "import pandas as pd\n",
        "\n",
        "\n",
        "training_df = pd.read_csv('training_data.csv')\n",
        "testing_df = pd.read_csv('testing_data.csv')\n",
        "\n",
        "training_df"
      ],
      "metadata": {
        "id": "4fh3DURvLBvA"
      },
      "execution_count": null,
      "outputs": []
    },
    {
      "cell_type": "code",
      "source": [
        "training_df['class_str'] = training_df['class'].astype('str')\n",
        "training_df['hover'] = [text.split('/')[-1] for text in training_df['filename']]\n",
        "\n",
        "testing_df['class_str'] = testing_df['class'].astype('str')\n",
        "testing_df['hover'] = [text.split('/')[-1] for text in testing_df['filename']]\n",
        "\n",
        "training_df"
      ],
      "metadata": {
        "id": "8IWxRHjQ4GS4"
      },
      "execution_count": null,
      "outputs": []
    },
    {
      "cell_type": "markdown",
      "source": [
        "### Exploración de los datos"
      ],
      "metadata": {
        "id": "h7SGMNlqx8Dx"
      }
    },
    {
      "cell_type": "markdown",
      "source": [
        "Podemos verificar si el conjunto de datos está balanceado:"
      ],
      "metadata": {
        "id": "wRHZdY0B4NNB"
      }
    },
    {
      "cell_type": "code",
      "source": [
        "training_df.groupby('class').count()"
      ],
      "metadata": {
        "id": "dOvDsf0V3i7D"
      },
      "execution_count": null,
      "outputs": []
    },
    {
      "cell_type": "markdown",
      "source": [
        "Podemos explorar cómo se ven los datos en un gráfico 3D:"
      ],
      "metadata": {
        "id": "5MVOWcHT4Qiz"
      }
    },
    {
      "cell_type": "code",
      "source": [
        "import plotly.express as px\n",
        "\n",
        "\n",
        "fig = px.scatter_3d(\n",
        "    training_df,\n",
        "    x='r', y='g', z='b',\n",
        "    color='class_str',\n",
        "    symbol='class_str',\n",
        "    color_discrete_sequence=['#be0900', '#ffb447'],\n",
        "    opacity=0.5,\n",
        "    hover_data=['hover']\n",
        ")\n",
        "fig.show()"
      ],
      "metadata": {
        "id": "RXINRt1ox_-G"
      },
      "execution_count": null,
      "outputs": []
    },
    {
      "cell_type": "markdown",
      "source": [
        "Puedes explorar las imágenes y sus valores de color utilizando el color picker que ofrece Google: https://g.co/kgs/uarXyu\n",
        "\n",
        "> **Pregunta clave:** ¿Los datos son linealmente separables? Con lo que hemos explorado hasta ahora, ¿basta una neurona para resolver el problema planteado?"
      ],
      "metadata": {
        "id": "L8aw6ijc3QZ7"
      }
    },
    {
      "cell_type": "markdown",
      "source": [
        "### Creación de una red neuronal artificial\n"
      ],
      "metadata": {
        "id": "npjrVs7jUBC3"
      }
    },
    {
      "cell_type": "code",
      "source": [
        "import torch\n",
        "import torch.nn as nn\n",
        "\n",
        "\n",
        "class NeuralNet(nn.Module):\n",
        "\n",
        "    def __init__(self):\n",
        "        super().__init__()\n",
        "        self.model = nn.Sequential(\n",
        "            # TODO. Linear() that maps 3 -> 5\n",
        "            # TODO. Activation function\n",
        "            # TODO. Linear() that maps 5 -> 2\n",
        "            # TODO. Activation function\n",
        "            # TODO. Linear() that maps 2 -> 1\n",
        "            # TODO. Activation function\n",
        "\n",
        "        )\n",
        "\n",
        "    def forward(self, x):\n",
        "        out = self.model(x.view(x.size(0), 3))\n",
        "        out = out.view(out.size(0), -1)\n",
        "        return out"
      ],
      "metadata": {
        "id": "H5nrK-Fwq0cu"
      },
      "execution_count": null,
      "outputs": []
    },
    {
      "cell_type": "markdown",
      "source": [
        "Antes de entrenar los datos, procedemos a escalarlos a valores en [0, 1]."
      ],
      "metadata": {
        "id": "mtWgvrStrmTM"
      }
    },
    {
      "cell_type": "code",
      "source": [
        "x = training_df[['r', 'g', 'b']].values / 255.\n",
        "y = training_df['class'].values\n",
        "y = y.reshape((len(y), 1))\n",
        "\n",
        "tensor_x = torch.Tensor(x).to(device)\n",
        "tensor_y = torch.Tensor(y).to(device)\n",
        "\n",
        "batch_size = 64\n",
        "dataset = TensorDataset(tensor_x, tensor_y)\n",
        "train_dataloader = DataLoader(dataset, batch_size=batch_size)"
      ],
      "metadata": {
        "id": "TVwv8EJUrMb0"
      },
      "execution_count": null,
      "outputs": []
    },
    {
      "cell_type": "code",
      "source": [
        "def train_net(model, loss_fn, optimizer, dataloader):\n",
        "    size = len(dataloader.dataset)\n",
        "    for batch, (x, y) in enumerate(dataloader):\n",
        "        # Compute prediction and loss\n",
        "        pred = model(x)\n",
        "        # loss = - y * torch.log(pred) - (1 - y) * torch.log(1 - pred)\n",
        "        # loss = loss.sum()\n",
        "        loss = loss_fn(y, pred)\n",
        "\n",
        "        # Backpropagation\n",
        "        optimizer.zero_grad()\n",
        "        loss.backward()\n",
        "        optimizer.step()\n",
        "\n",
        "    return loss.item()"
      ],
      "metadata": {
        "id": "RzA9_xKTtzYB"
      },
      "execution_count": null,
      "outputs": []
    },
    {
      "cell_type": "code",
      "source": [
        "model = NeuralNet().to(device)\n",
        "\n",
        "\n",
        "learning_rate = 0.0002\n",
        "\n",
        "\n",
        "loss_fn = nn.MSELoss()\n",
        "optimizer = torch.optim.SGD(model.parameters(), lr=learning_rate)\n",
        "\n",
        "epochs = 1000\n",
        "losses = []\n",
        "pbar = tqdm(range(epochs))\n",
        "for t in pbar:\n",
        "    loss = train_net(model, loss_fn, optimizer, train_dataloader)\n",
        "    pbar.set_postfix({'Loss': loss})\n",
        "    losses.append(loss)"
      ],
      "metadata": {
        "id": "eHmZ4nnccToB"
      },
      "execution_count": null,
      "outputs": []
    },
    {
      "cell_type": "code",
      "source": [
        "import plotly.express as px\n",
        "\n",
        "\n",
        "eje_x = np.arange(len(losses))\n",
        "\n",
        "fig = px.line(\n",
        "    x=eje_x,\n",
        "    y=losses,\n",
        "    title='Historia de entrenamiento',\n",
        "    labels=dict(x='Épocas', y='Error')\n",
        ")\n",
        "fig.show()"
      ],
      "metadata": {
        "id": "hZD3b7PXsmO-"
      },
      "execution_count": null,
      "outputs": []
    },
    {
      "cell_type": "markdown",
      "source": [
        "### Predicciones con el modelo\n"
      ],
      "metadata": {
        "id": "_2oyTh_jMAIM"
      }
    },
    {
      "cell_type": "markdown",
      "source": [
        "\n",
        "> **Pregunta clave:** ¿Qué sucede con la historia de entrenamiento?\n",
        "\n",
        "> **Pro-tip:** Exploremos con una nueva función de pérdida, qué tal la utilizada usualemente en una regresión logística: https://developers.google.com/machine-learning/crash-course/logistic-regression/model-training"
      ],
      "metadata": {
        "id": "KMX5Gjzu92e1"
      }
    },
    {
      "cell_type": "markdown",
      "source": [
        "Para predecir un color de ejemplo:"
      ],
      "metadata": {
        "id": "ZsC5ELq7Ad-F"
      }
    },
    {
      "cell_type": "code",
      "source": [
        "# Preparamos los datos\n",
        "sample_index = 1\n",
        "\n",
        "input_sample = testing_df[['r', 'g', 'b']].iloc[sample_index].values\n",
        "# input_sample = np.array([])\n",
        "print('Color real:', input_sample)\n",
        "\n",
        "input_sample = input_sample / 255.\n",
        "input_sample = input_sample.reshape((1, len(input_sample)))\n",
        "print('Color transformado:', input_sample)\n",
        "\n",
        "real_class = testing_df[['class']].iloc[sample_index].values\n",
        "print('Clase real:', real_class)"
      ],
      "metadata": {
        "id": "kLqvq2cnUfdD"
      },
      "execution_count": null,
      "outputs": []
    },
    {
      "cell_type": "code",
      "source": [
        "input_sample = torch.Tensor(input_sample).to(device)\n",
        "\n",
        "model(input_sample).cpu().data.numpy()[0, 0]"
      ],
      "metadata": {
        "id": "l8mB_4-T6l7G"
      },
      "execution_count": null,
      "outputs": []
    },
    {
      "cell_type": "markdown",
      "source": [
        "Para evaluar esta tarea, vamos a utilizar funciones de scikit-learn para la que nos permitirán realizar la evaluación de resultados en el conjunto de pruebas. (Utilizar [`sklearn.metrics.accuracy_score`](https://scikit-learn.org/stable/modules/generated/sklearn.metrics.accuracy_score.html#sklearn.metrics.accuracy_score))"
      ],
      "metadata": {
        "id": "8ubrtbZdoJ-m"
      }
    },
    {
      "cell_type": "markdown",
      "source": [
        "<center>\n",
        "    *********\n",
        "</center>"
      ],
      "metadata": {
        "id": "hMCddqlrYosR"
      }
    },
    {
      "cell_type": "code",
      "source": [
        "import plotly.express as px\n",
        "\n",
        "\n",
        "fig = px.scatter_3d(\n",
        "    testing_df,\n",
        "    x='r', y='g', z='b',\n",
        "    color='class_str',\n",
        "    symbol='class_str',\n",
        "    color_discrete_sequence=['#be0900', '#ffb447'],\n",
        "    opacity=0.5,\n",
        "    hover_data=['hover']\n",
        ")\n",
        "fig.show()"
      ],
      "metadata": {
        "id": "20x0UwqUAtdz"
      },
      "execution_count": null,
      "outputs": []
    },
    {
      "cell_type": "code",
      "source": [
        "def get_predictions(testing_df, threshold=0.5):\n",
        "    testing_inputs = testing_df[['r', 'g', 'b']].values / 255.\n",
        "    testing_output = testing_df['class'].values\n",
        "\n",
        "    predictions = []\n",
        "    for test_input in testing_inputs:\n",
        "        test_input = test_input.reshape((1, len(test_input)))\n",
        "        test_input = torch.Tensor(test_input).to(device)\n",
        "\n",
        "        if model(test_input).cpu().data.numpy()[0, 0] <= threshold:\n",
        "            prediction = 0\n",
        "        else:\n",
        "            prediction = 1\n",
        "        predictions.append(prediction)\n",
        "    predictions = np.array(predictions)\n",
        "\n",
        "    return testing_output, predictions"
      ],
      "metadata": {
        "id": "tccP9w_EBGvG"
      },
      "execution_count": null,
      "outputs": []
    },
    {
      "cell_type": "code",
      "source": [
        "from sklearn.metrics import accuracy_score\n",
        "\n",
        "\n",
        "testing_output, predictions = get_predictions(testing_df, threshold=0.8)\n",
        "result = accuracy_score(testing_output, predictions)\n",
        "print(f'Accuracy: {result * 100:.6}%')"
      ],
      "metadata": {
        "id": "JZvNFNY4B-Z9"
      },
      "execution_count": null,
      "outputs": []
    },
    {
      "cell_type": "markdown",
      "source": [
        "> **Pregunta clave:** ¿Qué sucede si cambiamos el _threshold_ a 0.7? A veces conviene explorar el valor de umbral que seleccionamos y no siempre dar por hecho que 0.5 va a funcionar todas las veces. <br><br>\n",
        "> Lee más aquí: https://ploomber.io/blog/threshold/"
      ],
      "metadata": {
        "id": "fYFSRK0P_c1d"
      }
    },
    {
      "cell_type": "markdown",
      "source": [
        "> **Para resolver la tarea, el reto es:** Mejor accuracy obtenido en la clase.\n",
        "\n",
        "**Puedes explorar:**\n",
        "- Utilizar 1 a 3 variables (de las dadas).\n",
        "- Investigar e implementar una nueva función para estimar el error.\n",
        "- Realizar transformaciones en los datos.\n",
        "- Entrenar por más épocas.\n",
        "- Mover el umbral para definir la clase.\n",
        "- Explorar otras funciones de activación.\n",
        "- Generar tu nuevo dataset de datos a partir de las imágenes originales."
      ],
      "metadata": {
        "id": "QKp_PZ_NDqbS"
      }
    },
    {
      "cell_type": "markdown",
      "source": [
        "--------\n",
        "\n",
        "> Contenido creado por **Rodolfo Ferro**, 2023. <br>\n",
        "> Puedes contactarme a través de Insta ([@rodo_ferro](https://www.instagram.com/rodo_ferro/)) o X ([@rodo_ferro](https://twitter.com/rodo_ferro))."
      ],
      "metadata": {
        "id": "hSdbQU3e6-Ky"
      }
    }
  ]
}