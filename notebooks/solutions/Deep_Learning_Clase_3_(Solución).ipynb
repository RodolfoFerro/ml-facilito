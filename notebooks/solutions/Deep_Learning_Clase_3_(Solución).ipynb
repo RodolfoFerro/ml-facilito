{
  "cells": [
    {
      "cell_type": "markdown",
      "metadata": {
        "id": "view-in-github",
        "colab_type": "text"
      },
      "source": [
        "<a href=\"https://colab.research.google.com/github/RodolfoFerro/ml-facilito/blob/main/notebooks/solutions/Deep_Learning_Clase_3_(Soluci%C3%B3n).ipynb\" target=\"_parent\"><img src=\"https://colab.research.google.com/assets/colab-badge.svg\" alt=\"Open In Colab\"/></a>"
      ]
    },
    {
      "cell_type": "markdown",
      "metadata": {
        "id": "R6jO_1gISKxk"
      },
      "source": [
        "# Deep Learning 101 - Clase 3  🧠\n",
        "\n",
        "> **Descripción:** Cuaderno de contenidos (III) sobre introducción a _deep learning_ para el Bootcamp de Machine Learning con Código Facilito, 2023-2025. <br>\n",
        "> **Autor:** [Rodolfo Ferro](https://github.com/RodolfoFerro) <br>\n",
        "> **Contacto:** [X](https://twitter.com/rodo_ferro) / [Instagram](https://www.instagram.com/rodo_ferro/)\n",
        "\n",
        "\n",
        "## Contenido\n",
        "\n",
        "### Sección VII\n",
        "\n",
        "1. Keras Core\n",
        "2. Tensores, operadores, funciones en keras_core.ops\n",
        "3. ¿Por qué utilizar Keras Core?\n",
        "\n",
        "\n",
        "### Sección VIII\n",
        "\n",
        "4. Introducción a PyTorch\n",
        "5. Tensores, operadores, funciones\n",
        "6. El problema de separabilidad lineal - XOR\n",
        "7. Redes neuronales con PyTorch\n",
        "\n",
        "\n",
        "### Sección IX – Tarea\n",
        "\n",
        "8. El dataset a utilizar\n",
        "9. Preparación de los datos\n",
        "10. Creación del modelo\n",
        "11. Entrenamiento del modelo\n",
        "12. Evaluación y predicción"
      ]
    },
    {
      "cell_type": "markdown",
      "metadata": {
        "id": "xNVG2PnSEtQN"
      },
      "source": [
        "## **Sección VII**"
      ]
    },
    {
      "cell_type": "markdown",
      "metadata": {
        "id": "tPk1Rkc4FZ5g"
      },
      "source": [
        "### **Keras Core**\n",
        "\n",
        "[Keras](https://keras.io/) es una API diseñada para seres humanos, no para máquinas. Sigue las mejores prácticas para reducir la carga cognitiva: ofrece API simples y consistentes, minimiza la cantidad de acciones del usuario requeridas para casos de uso comunes y proporciona mensajes de error claros y procesables.\n",
        "\n",
        "#### **¿Qué es Keras Core?**\n",
        "\n",
        "- Una reescritura completa de Keras\n",
        "  - Sin deuda técnica\n",
        "  - Un codebase más pequeño (43K LOC, ~3x más pequeño)\n",
        "- Con soporte multi-backend (JAX, TensorFlow, PyTorch, & Numpy)\n",
        "  - El backend de Numpy es para inferencia solamente\n",
        "- Reemplazo directo para tf.keras cuando usas TensorFlow como backend\n",
        "- Funciona perfectamente con KerasNLP y KerasCV\n"
      ]
    },
    {
      "cell_type": "code",
      "execution_count": null,
      "metadata": {
        "id": "NAqz6APSLRKU"
      },
      "outputs": [],
      "source": [
        "# Instalación de Keras Core\n",
        "!pip install keras_core -q"
      ]
    },
    {
      "cell_type": "markdown",
      "metadata": {
        "id": "tMWc7u3jLhJA"
      },
      "source": [
        "Nuevamente crearemos muestras, buscando resolver el [problema de separabilidad lineal para la compuerta lógica XOR](https://powerhousedm.blogspot.com/2007/10/el-problema-xor.html)."
      ]
    },
    {
      "cell_type": "code",
      "execution_count": null,
      "metadata": {
        "id": "A9sZ5Ug_K0Mh"
      },
      "outputs": [],
      "source": [
        "import numpy as np\n",
        "\n",
        "\n",
        "np.random.seed(42)\n",
        "x = np.array([(0, 0), (1, 0), (0, 1), (1, 1)])\n",
        "y = np.array([0, 1, 1, 0])"
      ]
    },
    {
      "cell_type": "markdown",
      "metadata": {
        "id": "rQLkwWY2LkHd"
      },
      "source": [
        "Podemos especificar el backend a utilizr en Keras a través del módulo `os` de Python."
      ]
    },
    {
      "cell_type": "code",
      "execution_count": null,
      "metadata": {
        "id": "HIIOS4V-Lc3B"
      },
      "outputs": [],
      "source": [
        "import os\n",
        "\n",
        "# Especificamos el backend: \"torch\" | \"tensorflow\" | \"jax\"\n",
        "os.environ[\"KERAS_BACKEND\"] = \"torch\""
      ]
    },
    {
      "cell_type": "markdown",
      "metadata": {
        "id": "L3I-lJW1L5dH"
      },
      "source": [
        "Y podemos verificar el tipo de dato cargado de acuerdo al backend utilizado."
      ]
    },
    {
      "cell_type": "code",
      "execution_count": null,
      "metadata": {
        "id": "P4kcgpraL7h_"
      },
      "outputs": [],
      "source": [
        "import keras_core as keras\n",
        "\n",
        "keras.utils.set_random_seed(42)\n",
        "keras.ops.numpy.arange(5)"
      ]
    },
    {
      "cell_type": "markdown",
      "metadata": {
        "id": "f3Y2YX28L9-7"
      },
      "source": [
        "Similar a como hicimos en la sesión anterior, podemos crear una red neuronal con la estructura y módulos ya conocidos."
      ]
    },
    {
      "cell_type": "code",
      "execution_count": null,
      "metadata": {
        "id": "bZKK3vIILJtf"
      },
      "outputs": [],
      "source": [
        "model = keras.models.Sequential([\n",
        "    keras.layers.Input(shape=(2, )),\n",
        "    keras.layers.Dense(2, activation=\"tanh\"),\n",
        "    keras.layers.Dense(1, activation=\"sigmoid\")\n",
        "])"
      ]
    },
    {
      "cell_type": "code",
      "source": [
        "model.get_weights()"
      ],
      "metadata": {
        "id": "a0fnBjdsNK7t"
      },
      "execution_count": null,
      "outputs": []
    },
    {
      "cell_type": "code",
      "execution_count": null,
      "metadata": {
        "id": "f0C1S_PQLPVC"
      },
      "outputs": [],
      "source": [
        "loss = keras.losses.MeanSquaredError()\n",
        "optimizer = keras.optimizers.SGD(learning_rate=0.6)\n",
        "model.compile(optimizer=optimizer, loss=loss, metrics=[loss])"
      ]
    },
    {
      "cell_type": "markdown",
      "metadata": {
        "id": "QVPAJ3SKMsJc"
      },
      "source": [
        "Y podemos verificar que la estructura es consistente, utilizando el método `.summary()` para ver una tabla con un resumen del modelo:"
      ]
    },
    {
      "cell_type": "code",
      "execution_count": null,
      "metadata": {
        "id": "W3qfS7NnybYE"
      },
      "outputs": [],
      "source": [
        "model.summary()"
      ]
    },
    {
      "cell_type": "markdown",
      "source": [
        "Para entrenar el modelo, utilizamos la función `fit`, siendo consistentes con los modelos creados en `sklearn`."
      ],
      "metadata": {
        "id": "NHLfYJpB1Bjo"
      }
    },
    {
      "cell_type": "code",
      "execution_count": null,
      "metadata": {
        "colab": {
          "background_save": true
        },
        "id": "y3WVinDqMFFu"
      },
      "outputs": [],
      "source": [
        "history = model.fit(x, y, epochs=1000)"
      ]
    },
    {
      "cell_type": "markdown",
      "metadata": {
        "id": "enFkKh9VM063"
      },
      "source": [
        "Verificamos la historia de entrenamiento."
      ]
    },
    {
      "cell_type": "code",
      "execution_count": null,
      "metadata": {
        "id": "2pyLthluMHN2"
      },
      "outputs": [],
      "source": [
        "import plotly.express as px\n",
        "\n",
        "\n",
        "losses = history.history[\"loss\"]\n",
        "eje_x = np.arange(len(losses))\n",
        "\n",
        "fig = px.line(\n",
        "    x=eje_x,\n",
        "    y=losses,\n",
        "    title=\"Historia de entrenamiento\",\n",
        "    labels=dict(x=\"Épocas\", y=\"Error\")\n",
        ")\n",
        "fig.show()"
      ]
    },
    {
      "cell_type": "markdown",
      "source": [
        "Ahora, evaluaremos el modelo en una rejilla para verificar la función aprendida."
      ],
      "metadata": {
        "id": "mwombsIP1JRY"
      }
    },
    {
      "cell_type": "code",
      "execution_count": null,
      "metadata": {
        "id": "228R45nKMI-m"
      },
      "outputs": [],
      "source": [
        "# Construcción de una rejilla\n",
        "x = np.linspace(-0.2, 1.2, 201)\n",
        "y = np.linspace(-0.2, 1.2, 201)\n",
        "xy = np.meshgrid(x, y)\n",
        "zz = np.array(list(zip(*(x.flat for x in xy))))\n",
        "\n",
        "# Predicción en la rejilla de valores\n",
        "surface = model.predict(zz)\n",
        "surface = surface.flatten()"
      ]
    },
    {
      "cell_type": "code",
      "execution_count": null,
      "metadata": {
        "id": "7Cg9jt3-MLGb"
      },
      "outputs": [],
      "source": [
        "import plotly.graph_objects as go\n",
        "\n",
        "\n",
        "fig = go.Figure(data=[go.Scatter3d(\n",
        "    x=zz[:, 0],\n",
        "    y=zz[:, 1],\n",
        "    z=surface,\n",
        "    mode=\"markers\",\n",
        "    marker=dict(\n",
        "        size=1,\n",
        "        color=surface,\n",
        "        colorscale=\"Viridis\",\n",
        "        opacity=0.8\n",
        "    )\n",
        ")])\n",
        "\n",
        "# Tight layout\n",
        "fig.update_layout(margin=dict(l=0, r=0, b=0, t=0))\n",
        "fig.show()"
      ]
    },
    {
      "cell_type": "markdown",
      "metadata": {
        "id": "KlQl_jAunKvb"
      },
      "source": [
        "## **Sección VIII**"
      ]
    },
    {
      "cell_type": "markdown",
      "metadata": {
        "id": "fp687hVHnOxo"
      },
      "source": [
        "### **Introducción a PyTorch**\n",
        "\n",
        "[PyTorch](https://pytorch.org/get-started/locally/) es una biblioteca de aprendizaje profundo open-source basada en la biblioteca de Torch (Lua), utilizado para aplicaciones como visión artificial y procesamiento de lenguajes naturales, principalmente desarrollado por el Laboratorio de Investigación de IA de Facebook (ahora Meta).\n",
        "\n",
        "PyTorch, es una de las bibliotecas más populares para el desarrollo de modelos de aprendizaje profundo, caracterizada por su flexibilidad y dinamismo en la construcción de redes.\n",
        "\n",
        "Comenzaremos preparando el conjunto de datos para su uso en PyTorch. Primero, se detectará automáticamente si hay una GPU disponible y, de no ser así, se utilizará la CPU de la máquina.\n",
        "\n",
        "Luego, se definiremos las muestras de entrada `x` y sus correspondientes etiquetas `y` como arreglos de NumPy. Estos se convierten en tensores de PyTorch mediante el objeto `torch.Tensor()` y se envían al dispositivo (CPU o GPU) usando `.to(device)`.\n",
        "\n",
        "Finalmente, crearemos un objeto `TensorDataset`, que permitirá emparejar las entradas y etiquetas como un único conjunto de datos. Luego, se utilizará `DataLoader` para empaquetar el dataset en un objeto iterable, lo que facilita su uso durante el entrenamiento, ya que permite recorrer los datos por lotes (_batches_), mezclarlos (_shuffling_) y más."
      ]
    },
    {
      "cell_type": "code",
      "execution_count": null,
      "metadata": {
        "id": "GbI7sI3GRLvO"
      },
      "outputs": [],
      "source": [
        "from torch.utils.data import TensorDataset, DataLoader\n",
        "import torch\n",
        "import numpy as np\n",
        "\n",
        "\n",
        "# Especificamos el uso de GPU o CPU\n",
        "device = \"cuda\" if torch.cuda.is_available() else \"cpu\"\n",
        "print(f\"Using {device} device\")\n",
        "\n",
        "# TODO. Load samples\n",
        "x = np.array([(0, 0), (1, 0), (0, 1), (1, 1)])\n",
        "y = np.array([[0], [1], [1], [0]])\n",
        "\n",
        "tensor_x = torch.Tensor(x).to(device) # TODO. Load torch.Tensor() to device\n",
        "tensor_y = torch.Tensor(y).to(device) # TODO. Load torch.Tensor() to device\n",
        "\n",
        "dataset = TensorDataset(tensor_x, tensor_y)\n",
        "train_dataloader = DataLoader(dataset)"
      ]
    },
    {
      "cell_type": "markdown",
      "metadata": {
        "id": "oILbTIcpZzF2"
      },
      "source": [
        "### **La red neurona, el optimizador y la función de pérdida**"
      ]
    },
    {
      "cell_type": "markdown",
      "metadata": {
        "id": "BP04BMThkScl"
      },
      "source": [
        "PyTorch está organizado en módulos, cada uno diseñado para cubrir distintas necesidades del flujo de trabajo de deep learning:\n",
        "\n",
        "- `torch.nn` — para definir modelos y capas\n",
        "- `torch.optim` — para configurar algoritmos de optimización\n",
        "- `torch.nn.functional` — para funciones de activación y pérdidas\n",
        "- `torch.utils.data` — para la gestión de datos y dataloaders\n",
        "\n",
        "A continuación, veremos cómo definir un modelo simple utilizando estos componentes, para ello consideraremos la misma función de pérdida/error de la sesión anterior, el error cuadrático medio (MSE).\n",
        "\n",
        "$$ \\mathrm{MSE}=\\frac{1}{N}\\cdot\\sum_{i=1}^N \\left(y_i- \\hat{y}_i \\right )^2 $$"
      ]
    },
    {
      "cell_type": "code",
      "source": [
        "import torch.nn as nn\n",
        "\n",
        "\n",
        "class RedEjemplo(nn.Module):\n",
        "\n",
        "    def __init__(self):\n",
        "        super().__init__()\n",
        "\n",
        "        self.model = nn.Sequential(\n",
        "            nn.Linear(2, 3),\n",
        "            nn.ReLU(),\n",
        "            nn.Linear(3, 4),\n",
        "            nn.ReLU(),\n",
        "            nn.Linear(4, 1),\n",
        "            nn.Sigmoid()\n",
        "        )\n",
        "\n",
        "    def forward(self, x):\n",
        "        out = self.model(x.view(x.size(0), 2))\n",
        "        out = out.view(out.size(0), -1)\n",
        "        return out"
      ],
      "metadata": {
        "id": "8LC_QPefQSqw"
      },
      "execution_count": null,
      "outputs": []
    },
    {
      "cell_type": "markdown",
      "source": [
        "En este bloque se define una red neuronal personalizada basada en la red de ejemplo mencionada en la sesión anterior. Para ello, se crea una clase `RedEjemplo` que hereda de `nn.Module`, la clase base para todos los modelos en PyTorch.\n",
        "\n",
        "Dentro del método `__init__`, se construye el modelo utilizando `nn.Sequential`, que permite apilar capas de manera ordenada. La arquitectura definida consta de:\n",
        "\n",
        "- Una capa lineal (`Linear`) que transforma 2 entradas en 3 salidas, seguida de una activación `ReLU`\n",
        "- Otra capa lineal que transforma 3 en 4, también con `ReLU`\n",
        "- Una última capa lineal de 4 a 1, seguida de `Sigmoid` (lo que la hace adecuada para clasificación binaria)\n",
        "\n",
        "El método `forward` define el paso hacia adelante de los datos por la red. Se hace un reshape de `x` para asegurar que tenga dos columnas por muestra, y se aplica el modelo secuencial. La salida también se ajusta en su forma para mantener un vector plano por muestra, lo que puede ser útil para el cálculo de la pérdida o métricas."
      ],
      "metadata": {
        "id": "WPabaYsoQ2Uq"
      }
    },
    {
      "cell_type": "code",
      "execution_count": null,
      "metadata": {
        "id": "7UId24PBOUdL"
      },
      "outputs": [],
      "source": [
        "import torch.nn as nn\n",
        "\n",
        "\n",
        "class NeuralNet(nn.Module):\n",
        "\n",
        "    def __init__(self):\n",
        "        super().__init__()\n",
        "\n",
        "        # TODO. Create Sequential model\n",
        "        self.model = nn.Sequential(\n",
        "            nn.Linear(2, 2), # TODO. nn.Linear() que mapea 2 -> 2\n",
        "            nn.Tanh(), # TODO. nn.Activation\n",
        "            nn.Linear(2, 1), # TODO. nn.Linear() que mapea 2 -> 1\n",
        "            nn.Sigmoid() # TODO. nn.Activation\n",
        "        )\n",
        "\n",
        "    def forward(self, x):\n",
        "        out = self.model(x.view(x.size(0), 2))\n",
        "        out = out.view(out.size(0), -1)\n",
        "        return out"
      ]
    },
    {
      "cell_type": "markdown",
      "source": [
        "Ahora, crearemos una función `train_net` que implementa un ciclo de entrenamiento \"básico\" para un modelo en PyTorch. Esta función recibe como argumentos:\n",
        "\n",
        "- `model`: el modelo a entrenar\n",
        "- `loss_fn`: la función de pérdida que mide el error de las predicciones\n",
        "- `optimizer`: el algoritmo de optimización (como `Adam` o `SGD`)\n",
        "- `dataloader`: un iterable con los datos de entrenamiento\n",
        "\n",
        "Dentro del ciclo `for`, se recorren los _batches_ del `dataloader`. Para cada uno se realiza:\n",
        "\n",
        "- **Predicción:** el modelo recibe el batch de entrada `x` y genera una predicción `pred`.\n",
        "- **Cálculo de la pérdida:** se calcula el error entre la predicción y la etiqueta real y usando la función de pérdida loss_fn.\n",
        "- **_Backpropagation_:**\n",
        "   - `optimizer.zero_grad()` limpia los gradientes acumulados de iteraciones anteriores.\n",
        "   - `loss.backward()` calcula los gradientes de la pérdida respecto a los parámetros del modelo.\n",
        "   - `optimizer.step()` actualiza los parámetros del modelo con los gradientes calculados.\n",
        "\n",
        "Finalmente, la función nos va a devolver el valor de la última pérdida/error calculado, lo cual (como ya hemos visto) puede ser útil para monitorear el entrenamiento."
      ],
      "metadata": {
        "id": "o20U11CXRgbk"
      }
    },
    {
      "cell_type": "code",
      "execution_count": null,
      "metadata": {
        "id": "44I5uVwJPKl3"
      },
      "outputs": [],
      "source": [
        "def train_net(model, loss_fn, optimizer, dataloader):\n",
        "    size = len(dataloader.dataset)\n",
        "    for batch, (x, y) in enumerate(dataloader):\n",
        "        # Compute prediction and loss\n",
        "        pred = model(x) # TODO. Prediction is computed with the model\n",
        "        # TODO. Use loss_fn or use your own loss function\n",
        "        # e.g. loss = (y - pred) ** 2 or loss_fn(y, pred)\n",
        "        # loss.sum()\n",
        "        loss = loss_fn(y, pred)\n",
        "\n",
        "        # Backpropagation\n",
        "        optimizer.zero_grad() # TODO. optimizer -> zero_grad()\n",
        "        loss.backward() # TODO. loss -> backward()\n",
        "        optimizer.step() # TODO. optimizer -> step()\n",
        "\n",
        "    return loss.item()"
      ]
    },
    {
      "cell_type": "markdown",
      "metadata": {
        "id": "7GcpIEc_D08i"
      },
      "source": [
        "- ¿Por qué hacer **zero_grad()**? https://stackoverflow.com/a/67819799"
      ]
    },
    {
      "cell_type": "markdown",
      "metadata": {
        "id": "rFYoAkMoEImS"
      },
      "source": [
        "### **Entrenamiento de la red**\n",
        "\n",
        "Podemos crear una instancia del modelo creado y lo cargamos al dispositivo."
      ]
    },
    {
      "cell_type": "code",
      "execution_count": null,
      "metadata": {
        "id": "lMbMP4spQENw"
      },
      "outputs": [],
      "source": [
        "model = NeuralNet().to(device)\n",
        "print(model)"
      ]
    },
    {
      "cell_type": "markdown",
      "source": [
        "Para acceder a los parámetros, haríamos:"
      ],
      "metadata": {
        "id": "qnerd1AzWOYt"
      }
    },
    {
      "cell_type": "code",
      "source": [
        "for param in model.parameters():\n",
        "    print(param)"
      ],
      "metadata": {
        "id": "c21Jw5oYWG8F"
      },
      "execution_count": null,
      "outputs": []
    },
    {
      "cell_type": "markdown",
      "source": [
        "Para entrenar la red utilizaremos la función creada en un coonjunto de ápocas definido."
      ],
      "metadata": {
        "id": "Ekz1kE0_Sg89"
      }
    },
    {
      "cell_type": "code",
      "execution_count": null,
      "metadata": {
        "id": "WZTG6VvrQ2Bw"
      },
      "outputs": [],
      "source": [
        "from tqdm import tqdm\n",
        "\n",
        "\n",
        "# Especificamos los hiperparámetros, creamos el\n",
        "# optimizador y la función de pérdida\n",
        "learning_rate = 0.3\n",
        "loss_fn = nn.MSELoss()\n",
        "optimizer = torch.optim.SGD(model.parameters(), lr=learning_rate)\n",
        "\n",
        "# Especificamos las épocas y entrenamos el modelo\n",
        "epochs = 1000\n",
        "losses = []\n",
        "pbar = tqdm(range(epochs))\n",
        "for t in pbar:\n",
        "    loss = train_net(model, loss_fn, optimizer, train_dataloader)\n",
        "    losses.append(loss)\n",
        "    pbar.set_postfix({'Loss': loss})"
      ]
    },
    {
      "cell_type": "markdown",
      "metadata": {
        "id": "DYLzne29Ss7b"
      },
      "source": [
        "Verificamos la historia de entrenamiento."
      ]
    },
    {
      "cell_type": "code",
      "execution_count": null,
      "metadata": {
        "id": "cHBNrHSMXKhW"
      },
      "outputs": [],
      "source": [
        "import plotly.express as px\n",
        "\n",
        "\n",
        "eje_x = np.arange(len(losses))\n",
        "\n",
        "fig = px.line(\n",
        "    x=eje_x,\n",
        "    y=losses,\n",
        "    title=\"Historia de entrenamiento\",\n",
        "    labels=dict(x=\"Épocas\", y=\"Error\")\n",
        ")\n",
        "fig.show()"
      ]
    },
    {
      "cell_type": "markdown",
      "source": [
        "Ahora, evaluaremos el modelo en la rejilla conocida para verificar la función aprendida."
      ],
      "metadata": {
        "id": "GZmlXcQ-S0ue"
      }
    },
    {
      "cell_type": "code",
      "execution_count": null,
      "metadata": {
        "id": "hvSrcyLDaTxc"
      },
      "outputs": [],
      "source": [
        "# Construcción de una rejilla\n",
        "x = np.linspace(-0.2, 1.2, 201)\n",
        "y = np.linspace(-0.2, 1.2, 201)\n",
        "xy = np.meshgrid(x, y)\n",
        "zz = np.array(list(zip(*(x.flat for x in xy))))\n",
        "\n",
        "# Predicción en la rejilla de valores\n",
        "z = torch.Tensor(zz).to(device)\n",
        "surface = model(z)\n",
        "\n",
        "surface = surface.cpu().data.numpy().flatten()"
      ]
    },
    {
      "cell_type": "code",
      "execution_count": null,
      "metadata": {
        "id": "Z98QLtC8cZH5"
      },
      "outputs": [],
      "source": [
        "import plotly.graph_objects as go\n",
        "\n",
        "\n",
        "fig = go.Figure(data=[go.Scatter3d(\n",
        "    x=zz[:, 0],\n",
        "    y=zz[:, 1],\n",
        "    z=surface,\n",
        "    mode=\"markers\",\n",
        "    marker=dict(\n",
        "        size=1,\n",
        "        color=surface,\n",
        "        colorscale=\"Viridis\",\n",
        "        opacity=0.8\n",
        "    )\n",
        ")])\n",
        "\n",
        "# Tight layout\n",
        "fig.update_layout(margin=dict(l=0, r=0, b=0, t=0))\n",
        "fig.show()"
      ]
    },
    {
      "cell_type": "markdown",
      "metadata": {
        "id": "0IHtR4uPEaCO"
      },
      "source": [
        "<center>\n",
        "    *********\n",
        "</center>"
      ]
    },
    {
      "cell_type": "markdown",
      "metadata": {
        "id": "7NE4e3KuEVst"
      },
      "source": [
        "## **Sección III – Tarea**"
      ]
    },
    {
      "cell_type": "markdown",
      "metadata": {
        "id": "1Z7JrTygMDSx"
      },
      "source": [
        "### El dataset a utilizar: Naranjas vs. Manzanas\n",
        "\n",
        "El dataset ha sido una adaptación de datos encontrados en [Kaggle](https://www.kaggle.com/datasets/theblackmamba31/apple-orange). Dicho dataset está compuesto por conjuntos de imágenes de naranjas y manzanas que serán un utilizados para entrenar una neurona artificial.\n"
      ]
    },
    {
      "cell_type": "markdown",
      "metadata": {
        "id": "UVg0AU2-Fqzr"
      },
      "source": [
        "Para cargar los datos, primero los descargaremos de un repositorio donde previamente los preparé para ustedes.\n",
        "\n",
        "Puedes explorar directamente los archivos fuente del [repositorio en GitHub – `apple-orange-dataset`](https://github.com/RodolfoFerro/apple-orange-dataset).\n",
        "\n",
        "Puedes también explorar el [script](https://github.com/RodolfoFerro/apple-orange-dataset/blob/main/script.py) que he utilizado para la preparación de los mismos."
      ]
    },
    {
      "cell_type": "code",
      "execution_count": null,
      "metadata": {
        "id": "1S81FXVEFzQo"
      },
      "outputs": [],
      "source": [
        "!wget https://raw.githubusercontent.com/RodolfoFerro/apple-orange-dataset/main/training_data.csv\n",
        "!wget https://raw.githubusercontent.com/RodolfoFerro/apple-orange-dataset/main/testing_data.csv"
      ]
    },
    {
      "cell_type": "markdown",
      "metadata": {
        "id": "CxfNdPU3NQge"
      },
      "source": [
        "### Preparación de los datos\n"
      ]
    },
    {
      "cell_type": "code",
      "execution_count": null,
      "metadata": {
        "id": "4fh3DURvLBvA"
      },
      "outputs": [],
      "source": [
        "import pandas as pd\n",
        "\n",
        "\n",
        "training_df = pd.read_csv(\"training_data.csv\")\n",
        "testing_df = pd.read_csv(\"testing_data.csv\")\n",
        "\n",
        "training_df"
      ]
    },
    {
      "cell_type": "code",
      "execution_count": null,
      "metadata": {
        "id": "8IWxRHjQ4GS4"
      },
      "outputs": [],
      "source": [
        "training_df[\"class_str\"] = training_df[\"class\"].astype(\"str\")\n",
        "training_df[\"hover\"] = [text.split(\"/\")[-1] for text in training_df[\"filename\"]]\n",
        "\n",
        "testing_df[\"class_str\"] = testing_df[\"class\"].astype(\"str\")\n",
        "testing_df[\"hover\"] = [text.split(\"/\")[-1] for text in testing_df[\"filename\"]]\n",
        "\n",
        "training_df"
      ]
    },
    {
      "cell_type": "markdown",
      "metadata": {
        "id": "h7SGMNlqx8Dx"
      },
      "source": [
        "### Exploración de los datos"
      ]
    },
    {
      "cell_type": "markdown",
      "metadata": {
        "id": "wRHZdY0B4NNB"
      },
      "source": [
        "Podemos verificar si el conjunto de datos está balanceado:"
      ]
    },
    {
      "cell_type": "code",
      "execution_count": null,
      "metadata": {
        "id": "dOvDsf0V3i7D"
      },
      "outputs": [],
      "source": [
        "training_df.groupby(\"class\").count()"
      ]
    },
    {
      "cell_type": "markdown",
      "metadata": {
        "id": "5MVOWcHT4Qiz"
      },
      "source": [
        "Podemos explorar cómo se ven los datos en un gráfico 3D:"
      ]
    },
    {
      "cell_type": "code",
      "execution_count": null,
      "metadata": {
        "id": "RXINRt1ox_-G"
      },
      "outputs": [],
      "source": [
        "import plotly.express as px\n",
        "\n",
        "\n",
        "fig = px.scatter_3d(\n",
        "    training_df,\n",
        "    x=\"r\", y=\"g\", z=\"b\",\n",
        "    color=\"class_str\",\n",
        "    symbol=\"class_str\",\n",
        "    color_discrete_sequence=[\"#be0900\", \"#ffb447\"],\n",
        "    opacity=0.5,\n",
        "    hover_data=[\"hover\"]\n",
        ")\n",
        "fig.show()"
      ]
    },
    {
      "cell_type": "markdown",
      "metadata": {
        "id": "L8aw6ijc3QZ7"
      },
      "source": [
        "Puedes explorar las imágenes y sus valores de color utilizando el color picker que ofrece Google: https://g.co/kgs/uarXyu\n",
        "\n",
        "> **Pregunta clave:** ¿Los datos son linealmente separables? Con lo que hemos explorado hasta ahora, ¿basta una neurona para resolver el problema planteado?"
      ]
    },
    {
      "cell_type": "markdown",
      "metadata": {
        "id": "npjrVs7jUBC3"
      },
      "source": [
        "### Creación de una red neuronal artificial\n"
      ]
    },
    {
      "cell_type": "code",
      "execution_count": null,
      "metadata": {
        "id": "H5nrK-Fwq0cu"
      },
      "outputs": [],
      "source": [
        "import torch\n",
        "import torch.nn as nn\n",
        "\n",
        "\n",
        "class NeuralNet(nn.Module):\n",
        "\n",
        "    def __init__(self):\n",
        "        super().__init__()\n",
        "        self.model = nn.Sequential(\n",
        "            nn.Linear(3, 8), # TODO. Linear() que mapea 3 -> 8\n",
        "            nn.ReLU(), # TODO. Activación ReLU\n",
        "            nn.Linear(8, 4), # TODO. Linear() que mapea 8 -> 4\n",
        "            nn.ReLU(), # TODO. Activación ReLU\n",
        "            nn.Linear(4, 1), # TODO. Linear() que mapea 4 -> 1\n",
        "            nn.Sigmoid() # TODO. Activación Sigmoid\n",
        "\n",
        "        )\n",
        "\n",
        "    def forward(self, x):\n",
        "        out = self.model(x.view(x.size(0), 3))\n",
        "        out = out.view(out.size(0), -1)\n",
        "        return out"
      ]
    },
    {
      "cell_type": "markdown",
      "metadata": {
        "id": "mtWgvrStrmTM"
      },
      "source": [
        "Antes de entrenar los datos, procedemos a escalarlos a valores en [0, 1]."
      ]
    },
    {
      "cell_type": "code",
      "execution_count": null,
      "metadata": {
        "id": "TVwv8EJUrMb0"
      },
      "outputs": [],
      "source": [
        "x = training_df[[\"r\", \"g\", \"b\"]].values / 255.\n",
        "y = training_df[\"class\"].values\n",
        "y = y.reshape((len(y), 1))\n",
        "\n",
        "tensor_x = torch.Tensor(x).to(device)\n",
        "tensor_y = torch.Tensor(y).to(device)\n",
        "\n",
        "batch_size = 64\n",
        "dataset = TensorDataset(tensor_x, tensor_y)\n",
        "train_dataloader = DataLoader(dataset, batch_size=batch_size)"
      ]
    },
    {
      "cell_type": "code",
      "execution_count": null,
      "metadata": {
        "id": "RzA9_xKTtzYB"
      },
      "outputs": [],
      "source": [
        "def train_net(model, loss_fn, optimizer, dataloader):\n",
        "    size = len(dataloader.dataset)\n",
        "    for batch, (x, y) in enumerate(dataloader):\n",
        "        # Compute prediction and loss\n",
        "        pred = model(x)\n",
        "        # loss = - y * torch.log(pred) - (1 - y) * torch.log(1 - pred)\n",
        "        # loss = loss.sum()\n",
        "        loss = loss_fn(y, pred)\n",
        "\n",
        "        # Backpropagation\n",
        "        optimizer.zero_grad()\n",
        "        loss.backward()\n",
        "        optimizer.step()\n",
        "\n",
        "    return loss.item()"
      ]
    },
    {
      "cell_type": "code",
      "execution_count": null,
      "metadata": {
        "id": "eHmZ4nnccToB"
      },
      "outputs": [],
      "source": [
        "# Instancia de red neuronal cargada a _device_\n",
        "model = NeuralNet().to(device)\n",
        "\n",
        "# Learning rate\n",
        "learning_rate = 0.01\n",
        "\n",
        "# Función de pérdida\n",
        "loss_fn = nn.MSELoss()\n",
        "loss_fn = nn.BCEWithLogitsLoss()\n",
        "\n",
        "# Optimizador\n",
        "optimizer = torch.optim.SGD(model.parameters(), lr=learning_rate)\n",
        "\n",
        "# Épocas\n",
        "epochs = 500\n",
        "losses = []\n",
        "pbar = tqdm(range(epochs))\n",
        "for t in pbar:\n",
        "    loss = train_net(model, loss_fn, optimizer, train_dataloader)\n",
        "    losses.append(loss)\n",
        "    pbar.set_postfix({\"Loss\": loss})"
      ]
    },
    {
      "cell_type": "code",
      "execution_count": null,
      "metadata": {
        "id": "hZD3b7PXsmO-"
      },
      "outputs": [],
      "source": [
        "import plotly.express as px\n",
        "\n",
        "\n",
        "eje_x = np.arange(len(losses))\n",
        "\n",
        "fig = px.line(\n",
        "    x=eje_x,\n",
        "    y=losses,\n",
        "    title=\"Historia de entrenamiento\",\n",
        "    labels=dict(x=\"Épocas\", y=\"Error\")\n",
        ")\n",
        "fig.show()"
      ]
    },
    {
      "cell_type": "markdown",
      "metadata": {
        "id": "_2oyTh_jMAIM"
      },
      "source": [
        "### Predicciones con el modelo\n"
      ]
    },
    {
      "cell_type": "markdown",
      "metadata": {
        "id": "KMX5Gjzu92e1"
      },
      "source": [
        "\n",
        "> **Pregunta clave:** ¿Qué sucede con la historia de entrenamiento?\n",
        "\n",
        "> **Pro-tip:** Exploremos con una nueva función de pérdida, qué tal la utilizada usualemente en una regresión logística: https://developers.google.com/machine-learning/crash-course/logistic-regression/model-training"
      ]
    },
    {
      "cell_type": "markdown",
      "metadata": {
        "id": "ZsC5ELq7Ad-F"
      },
      "source": [
        "Para predecir un color de ejemplo:"
      ]
    },
    {
      "cell_type": "code",
      "execution_count": null,
      "metadata": {
        "id": "kLqvq2cnUfdD"
      },
      "outputs": [],
      "source": [
        "# Preparamos los datos\n",
        "sample_index = 1\n",
        "\n",
        "input_sample = testing_df[[\"r\", \"g\", \"b\"]].iloc[sample_index].values\n",
        "# input_sample = np.array([])\n",
        "print(\"Color real:\", input_sample)\n",
        "\n",
        "input_sample = input_sample / 255.\n",
        "input_sample = input_sample.reshape((1, len(input_sample)))\n",
        "print(\"Color transformado:\", input_sample)\n",
        "\n",
        "real_class = testing_df[[\"class\"]].iloc[sample_index].values\n",
        "print(\"Clase real:\", real_class)"
      ]
    },
    {
      "cell_type": "code",
      "execution_count": null,
      "metadata": {
        "id": "l8mB_4-T6l7G"
      },
      "outputs": [],
      "source": [
        "input_sample = torch.Tensor(input_sample).to(device)\n",
        "\n",
        "model(input_sample).cpu().data.numpy()[0, 0]"
      ]
    },
    {
      "cell_type": "markdown",
      "metadata": {
        "id": "8ubrtbZdoJ-m"
      },
      "source": [
        "Para evaluar esta tarea, vamos a utilizar funciones de scikit-learn para la que nos permitirán realizar la evaluación de resultados en el conjunto de pruebas. (Utilizar [`sklearn.metrics.accuracy_score`](https://scikit-learn.org/stable/modules/generated/sklearn.metrics.accuracy_score.html#sklearn.metrics.accuracy_score))"
      ]
    },
    {
      "cell_type": "markdown",
      "metadata": {
        "id": "hMCddqlrYosR"
      },
      "source": [
        "<center>\n",
        "    *********\n",
        "</center>"
      ]
    },
    {
      "cell_type": "code",
      "execution_count": null,
      "metadata": {
        "id": "20x0UwqUAtdz"
      },
      "outputs": [],
      "source": [
        "import plotly.express as px\n",
        "\n",
        "\n",
        "fig = px.scatter_3d(\n",
        "    testing_df,\n",
        "    x=\"r\", y=\"g\", z=\"b\",\n",
        "    color=\"class_str\",\n",
        "    symbol=\"class_str\",\n",
        "    color_discrete_sequence=[\"#be0900\", \"#ffb447\"],\n",
        "    opacity=0.5,\n",
        "    hover_data=[\"hover\"]\n",
        ")\n",
        "fig.show()"
      ]
    },
    {
      "cell_type": "code",
      "execution_count": null,
      "metadata": {
        "id": "tccP9w_EBGvG"
      },
      "outputs": [],
      "source": [
        "def get_predictions(testing_df, threshold=0.5):\n",
        "    testing_inputs = testing_df[[\"r\", \"g\", \"b\"]].values / 255.\n",
        "    testing_output = testing_df[\"class\"].values\n",
        "\n",
        "    predictions = []\n",
        "    for test_input in testing_inputs:\n",
        "        test_input = test_input.reshape((1, len(test_input)))\n",
        "        test_input = torch.Tensor(test_input).to(device)\n",
        "\n",
        "        if model(test_input).cpu().data.numpy()[0, 0] <= threshold:\n",
        "            prediction = 0\n",
        "        else:\n",
        "            prediction = 1\n",
        "        predictions.append(prediction)\n",
        "    predictions = np.array(predictions)\n",
        "\n",
        "    return testing_output, predictions"
      ]
    },
    {
      "cell_type": "code",
      "execution_count": null,
      "metadata": {
        "id": "JZvNFNY4B-Z9"
      },
      "outputs": [],
      "source": [
        "from sklearn.metrics import accuracy_score\n",
        "\n",
        "\n",
        "testing_output, predictions = get_predictions(testing_df, threshold=0.5)\n",
        "result = accuracy_score(testing_output, predictions)\n",
        "print(f\"Accuracy: {result * 100:.6}%\")"
      ]
    },
    {
      "cell_type": "markdown",
      "metadata": {
        "id": "fYFSRK0P_c1d"
      },
      "source": [
        "> **Pregunta clave:** ¿Qué sucede si cambiamos el _threshold_ a 0.7? A veces conviene explorar el valor de umbral que seleccionamos y no siempre dar por hecho que 0.5 va a funcionar todas las veces. <br><br>\n",
        "> Lee más aquí: https://ploomber.io/blog/threshold/"
      ]
    },
    {
      "cell_type": "markdown",
      "metadata": {
        "id": "QKp_PZ_NDqbS"
      },
      "source": [
        "> **Para resolver la tarea, el reto es:** Mejor accuracy obtenido en la clase.\n",
        "\n",
        "**Puedes explorar:**\n",
        "- Utilizar 1 a 3 variables (de las dadas).\n",
        "- Investigar e implementar una nueva función para estimar el error.\n",
        "- Realizar transformaciones en los datos.\n",
        "- Entrenar por más épocas.\n",
        "- Mover el umbral para definir la clase.\n",
        "- Explorar otras funciones de activación.\n",
        "- Generar tu nuevo dataset de datos a partir de las imágenes originales."
      ]
    },
    {
      "cell_type": "markdown",
      "metadata": {
        "id": "hSdbQU3e6-Ky"
      },
      "source": [
        "--------\n",
        "\n",
        "> Contenido creado por **Rodolfo Ferro**, 2023-2025. <br>\n",
        "> Puedes contactarme a través de Insta ([@rodo_ferro](https://www.instagram.com/rodo_ferro/)) o X ([@rodo_ferro](https://twitter.com/rodo_ferro))."
      ]
    }
  ],
  "metadata": {
    "accelerator": "GPU",
    "colab": {
      "provenance": [],
      "include_colab_link": true
    },
    "gpuClass": "standard",
    "kernelspec": {
      "display_name": "Python 3",
      "name": "python3"
    }
  },
  "nbformat": 4,
  "nbformat_minor": 0
}